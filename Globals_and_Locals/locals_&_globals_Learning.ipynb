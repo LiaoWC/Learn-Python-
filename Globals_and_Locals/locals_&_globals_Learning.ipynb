{
 "cells": [
  {
   "cell_type": "markdown",
   "metadata": {},
   "source": [
    "## 一般的作法，我們會分別定義每個變數的值，然後再使用它們"
   ]
  },
  {
   "cell_type": "code",
   "execution_count": 2,
   "metadata": {},
   "outputs": [
    {
     "name": "stdout",
     "output_type": "stream",
     "text": [
      "1\n",
      "2\n",
      "3\n",
      "4\n",
      "5\n",
      "6\n",
      "7\n",
      "8\n",
      "9\n",
      "10\n"
     ]
    }
   ],
   "source": [
    "number1 = 1\n",
    "number2 = 2\n",
    "number3 = 3\n",
    "number4 = 4\n",
    "number5 = 5\n",
    "number6 = 6\n",
    "number7 = 7\n",
    "number8 = 8\n",
    "number9 = 9\n",
    "number10 = 10\n",
    "\n",
    "\n",
    "print(number1)\n",
    "print(number2)\n",
    "print(number3)\n",
    "print(number4)\n",
    "print(number5)\n",
    "print(number6)\n",
    "print(number7)\n",
    "print(number8)\n",
    "print(number9)\n",
    "print(number10)"
   ]
  },
  {
   "cell_type": "markdown",
   "metadata": {},
   "source": [
    "## locals與globals簡單變換變數名稱的運用"
   ]
  },
  {
   "cell_type": "code",
   "execution_count": 5,
   "metadata": {},
   "outputs": [
    {
     "name": "stdout",
     "output_type": "stream",
     "text": [
      "Print In Once:  1\n",
      "Print In Once:  2\n",
      "Print In Once:  3\n",
      "Print In Once:  4\n",
      "Print In Once:  5\n",
      "Print In Once:  6\n",
      "Print In Once:  7\n",
      "Print In Once:  8\n",
      "Print In Once:  9\n"
     ]
    }
   ],
   "source": [
    "for i in range(1,10):\n",
    "    locals()['number'+str(i)] = i\n",
    "    print('Print In Once: ', locals()['number'+str(i)])\n",
    "    "
   ]
  },
  {
   "cell_type": "code",
   "execution_count": 6,
   "metadata": {},
   "outputs": [
    {
     "name": "stdout",
     "output_type": "stream",
     "text": [
      "Print In Once:  1\n",
      "Print In Once:  2\n",
      "Print In Once:  3\n",
      "Print In Once:  4\n",
      "Print In Once:  5\n",
      "Print In Once:  6\n",
      "Print In Once:  7\n",
      "Print In Once:  8\n",
      "Print In Once:  9\n",
      "1\n",
      "2\n",
      "3\n",
      "4\n",
      "5\n",
      "6\n",
      "7\n",
      "8\n",
      "9\n"
     ]
    }
   ],
   "source": [
    "for i in range(1,10):\n",
    "    globals()['number'+str(i)] = i\n",
    "    print('Print In Once: ', globals()['number'+str(i)])\n",
    "    \n",
    "print(number1)\n",
    "print(number2)\n",
    "print(number3)\n",
    "print(number4)\n",
    "print(number5)\n",
    "print(number6)\n",
    "print(number7)\n",
    "print(number8)\n",
    "print(number9)"
   ]
  },
  {
   "cell_type": "markdown",
   "metadata": {},
   "source": [
    "## locals: 宣告為區域變數，它在使用上會遇到一個問題，在函式A中定義好的變數，不能在函式B中被使用"
   ]
  },
  {
   "cell_type": "code",
   "execution_count": 2,
   "metadata": {},
   "outputs": [
    {
     "name": "stdout",
     "output_type": "stream",
     "text": [
      "Jack\n",
      "Eric\n",
      "Cathy\n",
      "Jenny\n",
      "James\n",
      "Gary\n",
      "Lucy\n",
      "Candy\n"
     ]
    },
    {
     "ename": "KeyError",
     "evalue": "'name0'",
     "output_type": "error",
     "traceback": [
      "\u001b[1;31m---------------------------------------------------------------------------\u001b[0m",
      "\u001b[1;31mKeyError\u001b[0m                                  Traceback (most recent call last)",
      "\u001b[1;32m<ipython-input-2-98d07927b051>\u001b[0m in \u001b[0;36m<module>\u001b[1;34m\u001b[0m\n\u001b[0;32m     13\u001b[0m \u001b[1;32mif\u001b[0m \u001b[0m__name__\u001b[0m \u001b[1;33m==\u001b[0m \u001b[1;34m'__main__'\u001b[0m\u001b[1;33m:\u001b[0m\u001b[1;33m\u001b[0m\u001b[1;33m\u001b[0m\u001b[0m\n\u001b[0;32m     14\u001b[0m     \u001b[0mlocals_example\u001b[0m\u001b[1;33m(\u001b[0m\u001b[1;33m)\u001b[0m\u001b[1;33m\u001b[0m\u001b[1;33m\u001b[0m\u001b[0m\n\u001b[1;32m---> 15\u001b[1;33m     \u001b[0mgreet_example\u001b[0m\u001b[1;33m(\u001b[0m\u001b[1;33m)\u001b[0m\u001b[1;33m\u001b[0m\u001b[1;33m\u001b[0m\u001b[0m\n\u001b[0m",
      "\u001b[1;32m<ipython-input-2-98d07927b051>\u001b[0m in \u001b[0;36mgreet_example\u001b[1;34m()\u001b[0m\n\u001b[0;32m      8\u001b[0m \u001b[1;32mdef\u001b[0m \u001b[0mgreet_example\u001b[0m\u001b[1;33m(\u001b[0m\u001b[1;33m)\u001b[0m\u001b[1;33m:\u001b[0m\u001b[1;33m\u001b[0m\u001b[1;33m\u001b[0m\u001b[0m\n\u001b[0;32m      9\u001b[0m     \u001b[1;32mfor\u001b[0m \u001b[0mi\u001b[0m \u001b[1;32min\u001b[0m \u001b[0mrange\u001b[0m\u001b[1;33m(\u001b[0m\u001b[0mlen\u001b[0m\u001b[1;33m(\u001b[0m\u001b[0mname_list\u001b[0m\u001b[1;33m)\u001b[0m\u001b[1;33m)\u001b[0m\u001b[1;33m:\u001b[0m\u001b[1;33m\u001b[0m\u001b[1;33m\u001b[0m\u001b[0m\n\u001b[1;32m---> 10\u001b[1;33m         \u001b[0mprint\u001b[0m\u001b[1;33m(\u001b[0m\u001b[1;34m'locals(): Hello'\u001b[0m \u001b[1;33m+\u001b[0m \u001b[0mlocals\u001b[0m\u001b[1;33m(\u001b[0m\u001b[1;33m)\u001b[0m\u001b[1;33m[\u001b[0m\u001b[1;34m'name'\u001b[0m\u001b[1;33m+\u001b[0m\u001b[0mstr\u001b[0m\u001b[1;33m(\u001b[0m\u001b[0mi\u001b[0m\u001b[1;33m)\u001b[0m\u001b[1;33m]\u001b[0m\u001b[1;33m)\u001b[0m\u001b[1;33m\u001b[0m\u001b[1;33m\u001b[0m\u001b[0m\n\u001b[0m\u001b[0;32m     11\u001b[0m \u001b[1;33m\u001b[0m\u001b[0m\n\u001b[0;32m     12\u001b[0m \u001b[1;33m\u001b[0m\u001b[0m\n",
      "\u001b[1;31mKeyError\u001b[0m: 'name0'"
     ]
    }
   ],
   "source": [
    "name_list = ['Jack', 'Eric', 'Cathy', 'Jenny', 'James', 'Gary', 'Lucy', 'Candy']\n",
    "\n",
    "def locals_example():\n",
    "    for i in range(len(name_list)):\n",
    "        locals()['name'+str(i)] = name_list[i]\n",
    "        print(locals()['name'+str(i)])\n",
    "\n",
    "def greet_example():\n",
    "    for i in range(len(name_list)):\n",
    "        print('locals(): Hello' + locals()['name'+str(i)])\n",
    "        \n",
    "    \n",
    "if __name__ == '__main__':\n",
    "    locals_example()\n",
    "    greet_example()\n"
   ]
  },
  {
   "cell_type": "markdown",
   "metadata": {},
   "source": [
    "## globals: 宣告為全域變數，變數就能在任何其他函數中使用"
   ]
  },
  {
   "cell_type": "code",
   "execution_count": 3,
   "metadata": {},
   "outputs": [
    {
     "name": "stdout",
     "output_type": "stream",
     "text": [
      "Jack\n",
      "Eric\n",
      "Cathy\n",
      "Jenny\n",
      "James\n",
      "Gary\n",
      "Lucy\n",
      "Candy\n",
      "globals(): HelloJack\n",
      "globals(): HelloEric\n",
      "globals(): HelloCathy\n",
      "globals(): HelloJenny\n",
      "globals(): HelloJames\n",
      "globals(): HelloGary\n",
      "globals(): HelloLucy\n",
      "globals(): HelloCandy\n",
      "Cathy\n"
     ]
    }
   ],
   "source": [
    "name_list = ['Jack', 'Eric', 'Cathy', 'Jenny', 'James', 'Gary', 'Lucy', 'Candy']\n",
    "\n",
    "def globals_example():\n",
    "    for n in range(len(name_list)):\n",
    "        globals()['name'+str(n)] = name_list[n]\n",
    "        print(globals()['name'+str(n)])\n",
    "\n",
    "def greet_example():\n",
    "    for n in range(len(name_list)):\n",
    "        print('globals(): Hello' + globals()['name'+str(n)])\n",
    "        \n",
    "    \n",
    "if __name__ == '__main__':\n",
    "    globals_example()\n",
    "    greet_example()\n",
    "    print(name2)"
   ]
  }
 ],
 "metadata": {
  "kernelspec": {
   "display_name": "Python 3",
   "language": "python",
   "name": "python3"
  },
  "language_info": {
   "codemirror_mode": {
    "name": "ipython",
    "version": 3
   },
   "file_extension": ".py",
   "mimetype": "text/x-python",
   "name": "python",
   "nbconvert_exporter": "python",
   "pygments_lexer": "ipython3",
   "version": "3.7.6"
  }
 },
 "nbformat": 4,
 "nbformat_minor": 4
}
