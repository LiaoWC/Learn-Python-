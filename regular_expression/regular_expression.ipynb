{
 "cells": [
  {
   "cell_type": "markdown",
   "metadata": {},
   "source": [
    "## 正則表達式的貪婪與非貪婪模式 \n",
    "\n"
   ]
  },
  {
   "cell_type": "code",
   "execution_count": 5,
   "metadata": {},
   "outputs": [
    {
     "name": "stdout",
     "output_type": "stream",
     "text": [
      "gooooooo\n",
      "g\n"
     ]
    },
    {
     "data": {
      "text/plain": [
       "'a_b*c de'"
      ]
     },
     "execution_count": 5,
     "metadata": {},
     "output_type": "execute_result"
    }
   ],
   "source": [
    "import re\n",
    "\n",
    "## 貪婪模式\n",
    "print(re.search('go*', 'goooooood').group()) ## 'gooooooo'\n",
    "\n",
    "## 非貪婪模式\n",
    "print(re.search('go*?', 'goooooood').group()) ## 'g'\n",
    "\n"
   ]
  },
  {
   "cell_type": "markdown",
   "metadata": {},
   "source": [
    "## 非貪婪模式的常見用法  .*？的用法介紹 "
   ]
  },
  {
   "cell_type": "code",
   "execution_count": 6,
   "metadata": {},
   "outputs": [
    {
     "data": {
      "text/plain": [
       "'a_b*c de'"
      ]
     },
     "execution_count": 6,
     "metadata": {},
     "output_type": "execute_result"
    }
   ],
   "source": [
    "import re\n",
    "\n",
    "re.search('.*?e','a_b*c defg').group()"
   ]
  },
  {
   "cell_type": "markdown",
   "metadata": {},
   "source": [
    "##  match 函數用法 "
   ]
  },
  {
   "cell_type": "code",
   "execution_count": 7,
   "metadata": {},
   "outputs": [
    {
     "name": "stdout",
     "output_type": "stream",
     "text": [
      "<re.Match object; span=(0, 5), match='https'>\n",
      "(0, 5)\n",
      "None\n",
      "None\n",
      "<re.Match object; span=(0, 7), match='Matters'>\n"
     ]
    }
   ],
   "source": [
    "import re\n",
    "\n",
    "text = 'https://matters.news/@CHWang'\n",
    "text1 = 'Matters.news'\n",
    "\n",
    "\n",
    "print(re.match('https', text))\n",
    "print(re.match('https', text).span())\n",
    "print(re.match('matters', text))\n",
    "print(re.match('matters', text1))\n",
    "print(re.match('matters', text1, flags = re.I))"
   ]
  },
  {
   "cell_type": "code",
   "execution_count": 13,
   "metadata": {},
   "outputs": [
    {
     "name": "stdout",
     "output_type": "stream",
     "text": [
      "Jack lives in HsinChu and he is 25 years old, but ...\n",
      "Jack\n",
      "HsinChu\n",
      "25\n",
      "<class 'tuple'>\n",
      "('Jack', 'HsinChu', '25')\n"
     ]
    }
   ],
   "source": [
    "import re\n",
    "\n",
    "\n",
    "text = 'Jack lives in HsinChu and he is 25 years old, but ...'\n",
    "\n",
    "match_result = re.match(r'(.*) lives in ([a-z]*) and he is (\\d+).*', text, re.I)\n",
    "                        \n",
    "                        \n",
    "print(match_result.group())\n",
    "print(match_result.group(1))\n",
    "print(match_result.group(2))\n",
    "print(match_result.group(3))\n",
    "\n",
    "print(type(match_result.groups()))\n",
    "print(match_result.groups())"
   ]
  },
  {
   "cell_type": "markdown",
   "metadata": {},
   "source": [
    "## Search 函數用法 "
   ]
  },
  {
   "cell_type": "code",
   "execution_count": 39,
   "metadata": {},
   "outputs": [
    {
     "name": "stdout",
     "output_type": "stream",
     "text": [
      "<re.Match object; span=(0, 8), match='https://'>\n",
      "<re.Match object; span=(10, 14), match='dium'>\n",
      "(8, 14)\n",
      "None\n",
      "(7, 9)\n"
     ]
    }
   ],
   "source": [
    "import re\n",
    "\n",
    "text = 'https://medium.com/@chwang12341'\n",
    "text1 = 'Medium.Com'\n",
    "\n",
    "print(re.search('https://', text))\n",
    "print(re.search('dium', text))\n",
    "print(re.search('medium', text).span())\n",
    "\n",
    "print(re.search('co',text1))\n",
    "print(re.search('co',text1, flags = re.I).span())"
   ]
  },
  {
   "cell_type": "code",
   "execution_count": 49,
   "metadata": {},
   "outputs": [
    {
     "name": "stdout",
     "output_type": "stream",
     "text": [
      "Jen likes to eat cake and drink coke\n",
      "Jen\n",
      "cake\n",
      "coke\n",
      "('Jen', 'cake', 'coke')\n"
     ]
    }
   ],
   "source": [
    "import re\n",
    "\n",
    "text = 'Jen likes to eat cake and drink coke, but ...'\n",
    "\n",
    "match_result = re.search('(.*) likes to eat (\\w+) and drink ([a-z]*)', text, re.I|re.M)\n",
    "\n",
    "print(match_result.group())\n",
    "print(match_result.group(1))\n",
    "print(match_result.group(2))\n",
    "print(match_result.group(3))\n",
    "\n",
    "print(match_result.groups())"
   ]
  },
  {
   "cell_type": "markdown",
   "metadata": {},
   "source": [
    "## findall 函數用法"
   ]
  },
  {
   "cell_type": "code",
   "execution_count": 57,
   "metadata": {},
   "outputs": [
    {
     "name": "stdout",
     "output_type": "stream",
     "text": [
      "['good', 'day', 'Tom', 'Yep']\n",
      "['MMorning', 'Jen']\n"
     ]
    }
   ],
   "source": [
    "import re\n",
    "\n",
    "find_pattern = re.compile(r'[a-z]+', re.I)\n",
    "\n",
    "match_result1 = find_pattern.findall('good 66 day Tom_28 Yep')\n",
    "match_result2 = find_pattern.findall('good98MMorning66 Jen666 Yeah', 6,20)\n",
    "\n",
    "print(match_result1)\n",
    "print(match_result2)"
   ]
  },
  {
   "cell_type": "markdown",
   "metadata": {},
   "source": [
    "## sub 函數用法 \n",
    "\n"
   ]
  },
  {
   "cell_type": "code",
   "execution_count": 70,
   "metadata": {},
   "outputs": [
    {
     "name": "stdout",
     "output_type": "stream",
     "text": [
      "Jack/25/1993&Jen/23/1995\n",
      "Jack251993&Jen231995\n",
      "Jack251993&Jen/23/1995\n"
     ]
    }
   ],
   "source": [
    "import re \n",
    "\n",
    "text = 'Jack/25/1993 and Jen/23/1995'\n",
    "\n",
    "## 把中間的and與空格拿掉，用&替換\n",
    "sub_result1 = re.sub('\\sand\\s', '&', text)\n",
    "print(sub_result1)\n",
    "\n",
    "## 狀況一: 再把/拿掉\n",
    "sub_result2 = re.sub('/', '', sub_result1)\n",
    "print(sub_result2)\n",
    "\n",
    "## 狀況二: 再把/拿掉，但只要拿掉前兩個\n",
    "sub_result3 = re.sub('/', '', sub_result1, 2)\n",
    "print(sub_result3)"
   ]
  },
  {
   "cell_type": "code",
   "execution_count": 110,
   "metadata": {},
   "outputs": [
    {
     "name": "stdout",
     "output_type": "stream",
     "text": [
      "Jack4356Jen3364Ken784,Cathy1444\n"
     ]
    }
   ],
   "source": [
    "import re\n",
    "\n",
    "text = 'Jack66Jen58Ken28,Cathy38'\n",
    "\n",
    "## 將匹配好的數字做平方計算\n",
    "def square(match_result):\n",
    "    num = int(match_result.group('number'))\n",
    "    \n",
    "    return str(num**2)\n",
    "\n",
    "## 給定我們匹配值一個名稱，用?P<name>\n",
    "final_result = re.sub('(?P<number>\\d+)', square, text)\n",
    "\n",
    "print(final_result)"
   ]
  },
  {
   "cell_type": "markdown",
   "metadata": {},
   "source": [
    "## Compile 函數"
   ]
  },
  {
   "cell_type": "code",
   "execution_count": 158,
   "metadata": {},
   "outputs": [
    {
     "name": "stdout",
     "output_type": "stream",
     "text": [
      "None\n",
      "<re.Match object; span=(2, 6), match='Jack'>\n",
      "Jack\n",
      "2\n",
      "6\n",
      "(2, 6)\n"
     ]
    }
   ],
   "source": [
    "import re\n",
    "\n",
    "text = '68Jack66Jen58Ken28,Cathy38'\n",
    "\n",
    "## 匹配字母，並忽略大小寫\n",
    "pattern = re.compile(r'([a-z]+)', re.I)\n",
    "\n",
    "## match預設從第一個位置開始匹配\n",
    "compile_result1 = pattern.match(text)\n",
    "print(compile_result1) ## None，因為match會從第一個位置開始匹配，如果不通過就會返回none\n",
    "\n",
    "## 從第3個位置開始匹配\n",
    "compile_result2 = pattern.match(text, 2, 20)\n",
    "print(compile_result2) \n",
    "\n",
    "\n",
    "print(compile_result2.group(0)) \n",
    "print(compile_result2.start(0))\n",
    "print(compile_result2.end(0))\n",
    "print(compile_result2.span()) "
   ]
  },
  {
   "cell_type": "markdown",
   "metadata": {},
   "source": [
    "## finditer 函數用法 "
   ]
  },
  {
   "cell_type": "code",
   "execution_count": 163,
   "metadata": {},
   "outputs": [
    {
     "name": "stdout",
     "output_type": "stream",
     "text": [
      "Jack\n",
      "Jen\n",
      "Ken\n",
      "Cathy\n"
     ]
    }
   ],
   "source": [
    "import re\n",
    "\n",
    "match_result = re.finditer(r'[a-z]+', '68Jack66Jen58Ken28,Cathy38', re.I)\n",
    "\n",
    "\n",
    "for name in match_result:\n",
    "#     print(name)\n",
    "    print(name.group())"
   ]
  },
  {
   "cell_type": "markdown",
   "metadata": {},
   "source": [
    "## split 函數用法 "
   ]
  },
  {
   "cell_type": "code",
   "execution_count": 182,
   "metadata": {},
   "outputs": [
    {
     "name": "stdout",
     "output_type": "stream",
     "text": [
      "['Jack', 'Jen', 'Ken', 'Cathy']\n",
      "['Jack', '66', 'Jen', '58', 'Ken', '28', 'Cathy']\n",
      "['', 'Jack', 'Jen', 'Ken', 'Cathy', '']\n",
      "['66Jack66Jen58Ken28Cathy38']\n"
     ]
    }
   ],
   "source": [
    "#### import re\n",
    "\n",
    "text = 'Jack66Jen58Ken28Cathy'\n",
    "\n",
    "## 用數字來做為分隔依據\n",
    "print(re.split('\\d+', text))\n",
    "\n",
    "## 分隔，並將數字也傳進陣列\n",
    "print(re.split('(\\d+)', text))\n",
    "\n",
    "## 如果匹配的一句剛好在前後的位置，就會傳回空值\n",
    "text1 = '66Jack66Jen58Ken28Cathy38'\n",
    "print(re.split('\\d+', text1))\n",
    "\n",
    "## 如果找不到匹配會回串全部字串\n",
    "print(re.split('\\s+', text1))"
   ]
  },
  {
   "cell_type": "markdown",
   "metadata": {},
   "source": [
    "## 重要筆記：匹配時將我們需要爬取的數據，用（）來包住它的匹配規則，才會被獨立出來放入串列 "
   ]
  },
  {
   "cell_type": "code",
   "execution_count": 197,
   "metadata": {},
   "outputs": [
    {
     "name": "stdout",
     "output_type": "stream",
     "text": [
      "[('6658', '2020')]\n"
     ]
    }
   ],
   "source": [
    "import re\n",
    "\n",
    "text = '6658|Example_format|2020'\n",
    "\n",
    "print(re.findall(r'(\\d+)(?:\\WExample_format\\W)(\\d+)', text))"
   ]
  }
 ],
 "metadata": {
  "kernelspec": {
   "display_name": "Python 3",
   "language": "python",
   "name": "python3"
  },
  "language_info": {
   "codemirror_mode": {
    "name": "ipython",
    "version": 3
   },
   "file_extension": ".py",
   "mimetype": "text/x-python",
   "name": "python",
   "nbconvert_exporter": "python",
   "pygments_lexer": "ipython3",
   "version": "3.7.6"
  }
 },
 "nbformat": 4,
 "nbformat_minor": 4
}
