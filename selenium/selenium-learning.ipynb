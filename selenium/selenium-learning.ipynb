{
 "cells": [
  {
   "cell_type": "markdown",
   "metadata": {},
   "source": [
    "## 使用情況 1: 把WebDriver放在Python檔案旁邊或設為環境變數"
   ]
  },
  {
   "cell_type": "code",
   "execution_count": 2,
   "metadata": {},
   "outputs": [],
   "source": [
    "## Import Package\n",
    "from selenium import webdriver\n",
    "## Enabled Chrome function 打開模擬瀏覽器\n",
    "chrome_browser = webdriver.Chrome()\n",
    "## go to the website\n",
    "chrome_browser.get(\"https://medium.com/@chwang12341\")\n",
    "## Close down the website\n",
    "chrome_browser.close()"
   ]
  },
  {
   "cell_type": "markdown",
   "metadata": {},
   "source": [
    "## 使用情況 2: 未把WebDriver放在Python檔案旁邊或設為環境變數"
   ]
  },
  {
   "cell_type": "code",
   "execution_count": 5,
   "metadata": {},
   "outputs": [],
   "source": [
    "## Import Package\n",
    "from selenium import webdriver\n",
    "## WebDriver Path \n",
    "webdriver_path = \"C:/Users/user/Desktop/Learn-Python-/selenium/driver/chromedriver.exe\"\n",
    "## Enabled Chrome function 打開模擬瀏覽器\n",
    "chrome_browser = webdriver.Chrome(executable_path = webdriver_path)\n",
    "## go to the website\n",
    "chrome_browser.get(\"https://medium.com/@chwang12341\")\n",
    "## Close down the website\n",
    "chrome_browser.close()"
   ]
  },
  {
   "cell_type": "code",
   "execution_count": 9,
   "metadata": {},
   "outputs": [],
   "source": [
    "## Import Package\n",
    "from selenium import webdriver\n",
    "from selenium.webdriver.chrome.options import Options\n",
    "## Chrome.exe location set\n",
    "options = Options()\n",
    "options.binary_location = \"C:\\Program Files (x86)\\Google\\Chrome\\Application\\chrome.exe\"\n",
    "## WebDriver Path \n",
    "webdriver_path = \"C:/Users/user/Desktop/Learn-Python-/selenium/driver/chromedriver.exe\"\n",
    "## Enabled Chrome function 打開模擬瀏覽器\n",
    "chrome_browser = webdriver.Chrome(executable_path = webdriver_path, options = options)\n",
    "## go to the website\n",
    "chrome_browser.get(\"https://medium.com/@chwang12341\")\n",
    "## Close down the website\n",
    "chrome_browser.close()"
   ]
  },
  {
   "cell_type": "markdown",
   "metadata": {},
   "source": [
    "## 目標網站的屬性"
   ]
  },
  {
   "cell_type": "code",
   "execution_count": null,
   "metadata": {},
   "outputs": [],
   "source": [
    "## Import Package\n",
    "from selenium import webdriver\n",
    "## WebDriver Path \n",
    "webdriver_path = \"C:/Users/user/Desktop/Learn-Python-/selenium/driver/chromedriver.exe\"\n",
    "## Enabled Chrome function\n",
    "chrome_browser = webdriver.Chrome(executable_path = webdriver_path)\n",
    "## go to the website\n",
    "chrome_browser.get(\"https://medium.com/@chwang12341\")\n",
    "## 瀏覽器名稱\n",
    "print(chrome_browser.name) \n",
    "## 網頁標題\n",
    "print(chrome_browser.title)\n",
    "## URL位置\n",
    "print(chrome_browser.current_url)\n",
    "## 連線Browser Id\n",
    "print(chrome_browser.session_id)\n",
    "## 目標網頁原始碼\n",
    "print(chrome_browser.page_source)\n",
    "## 瀏覽器功能設定選項\n",
    "print(chrome_browser.capabilities)"
   ]
  },
  {
   "cell_type": "markdown",
   "metadata": {},
   "source": [
    "## 瀏覽器的大小與位置設定"
   ]
  },
  {
   "cell_type": "code",
   "execution_count": null,
   "metadata": {},
   "outputs": [],
   "source": [
    "## Import Package\n",
    "from selenium import webdriver\n",
    "## WebDriver Path \n",
    "webdriver_path = \"C:/Users/user/Desktop/Learn-Python-/selenium/driver/chromedriver.exe\"\n",
    "## Enabled Chrome function\n",
    "chrome_browser = webdriver.Chrome(executable_path = webdriver_path)\n",
    "## go to the website\n",
    "chrome_browser.get(\"https://medium.com/@chwang12341\")\n",
    "## 獲得初始化位置(左上角位置)\n",
    "print(chrome_browser.get_window_position()) ## {'x': 939, 'y': 69}\n",
    "## 設定初始化位置\n",
    "print(chrome_browser.set_window_position(100,100)) ## None\n",
    "print(chrome_browser.get_window_position()) ## {'x': 100, 'y': 100}\n",
    "## 獲得視窗大小\n",
    "print(chrome_browser.get_window_size()) ## {'width': 945, 'height': 1020}\n",
    "## 設定視窗大小\n",
    "print(chrome_browser.set_window_size(1000,1000)) ## None\n",
    "print(chrome_browser.get_window_size()) ## {'width': 1000, 'height': 1000}\n",
    "## 視窗最大化\n",
    "chrome_browser.maximize_window()\n",
    "## 視窗最小化\n",
    "chrome_browser.minimize_window()\n",
    "## 模擬視窗最小化\n",
    "chrome_browser.set_window_position(-3000,0)\n",
    "## 復原視窗大小\n",
    "chrome_browser.set_window_position(0,0)"
   ]
  },
  {
   "cell_type": "markdown",
   "metadata": {},
   "source": [
    "## 瀏覽器上的按鈕"
   ]
  },
  {
   "cell_type": "code",
   "execution_count": 11,
   "metadata": {},
   "outputs": [
    {
     "name": "stdout",
     "output_type": "stream",
     "text": [
      "https://medium.com/@chwang12341\n",
      "https://www.youtube.com/\n",
      "https://www.google.com/\n",
      "https://www.youtube.com/\n",
      "https://www.youtube.com/\n"
     ]
    }
   ],
   "source": [
    "## Import Package\n",
    "from selenium import webdriver\n",
    "import time\n",
    "## WebDriver Path \n",
    "webdriver_path = \"C:/Users/user/Desktop/Learn-Python-/selenium/driver/chromedriver.exe\"\n",
    "## Enabled Chrome function\n",
    "chrome_browser = webdriver.Chrome(executable_path = webdriver_path)\n",
    "## website you want to visit\n",
    "website_urls = [\"https://www.google.com/\",\"https://www.youtube.com/\",\"https://medium.com/@chwang12341\"]\n",
    "## visit the webaite in dorder\n",
    "for url in website_urls:\n",
    " time.sleep(2)\n",
    " ## go to the website\n",
    " chrome_browser.get(url)\n",
    "## 現在的網頁位置，會是網頁list中最後一個網頁位置\n",
    "print(chrome_browser.current_url) # https://medium.com/@chwang12341\n",
    "## 上一頁\n",
    "chrome_browser.back()\n",
    "print(chrome_browser.current_url) # https://www.youtube.com/\n",
    "## 再上一頁\n",
    "chrome_browser.back()\n",
    "print(chrome_browser.current_url) # https://www.google.com/\n",
    "## 下一頁\n",
    "chrome_browser.forward()\n",
    "print(chrome_browser.current_url) # https://www.youtube.com/\n",
    "## 重新整理頁面\n",
    "chrome_browser.refresh()\n",
    "print(chrome_browser.current_url) # https://www.youtube.com/\n",
    "## 關掉頁面\n",
    "# chrome_browser.close()\n",
    "## 關掉頁面 和 驅動程式 WebDriver\n",
    "chrome_browser.quit()"
   ]
  },
  {
   "cell_type": "markdown",
   "metadata": {},
   "source": [
    "## 瀏覽器截圖"
   ]
  },
  {
   "cell_type": "code",
   "execution_count": null,
   "metadata": {},
   "outputs": [],
   "source": [
    "## Import Package\n",
    "from selenium import webdriver\n",
    "import time\n",
    "## WebDriver Path \n",
    "webdriver_path = \"C:/Users/user/Desktop/Learn-Python-/selenium/driver/chromedriver.exe\"\n",
    "## Enabled Chrome function\n",
    "chrome_browser = webdriver.Chrome(executable_path = webdriver_path)\n",
    "## website you want to visit\n",
    "website_urls = [\"https://www.google.com/\",\"https://www.youtube.com/\",\"https://medium.com/@chwang12341\"]\n",
    "## visit the webaite in dorder\n",
    "for url in website_urls:\n",
    " time.sleep(2)\n",
    " ## go to the website\n",
    " chrome_browser.get(url)\n",
    " \n",
    "chrome_browser.save_screenshot(\"C:/Users/test.png\")"
   ]
  },
  {
   "cell_type": "markdown",
   "metadata": {},
   "source": [
    "## 實作一個小程式"
   ]
  },
  {
   "cell_type": "code",
   "execution_count": 12,
   "metadata": {},
   "outputs": [],
   "source": [
    "## Import Package\n",
    "from selenium import webdriver\n",
    "## WebDriver Path \n",
    "webdriver_path = \"C:/Users/user/Desktop/Learn-Python-/selenium/driver/chromedriver.exe\"\n",
    "## Enabled Chrome function\n",
    "chrome_browser = webdriver.Chrome(executable_path = webdriver_path)\n",
    "## go to the website\n",
    "chrome_browser.get(\"https://www.google.com/\")\n",
    "## 獲得搜尋欄的元素\n",
    "search = chrome_browser.find_element_by_name(\"q\")\n",
    "## 傳入文字\n",
    "search.send_keys(\"coding起來\")\n",
    "## 獲得按鈕元素\n",
    "btn = chrome_browser.find_element_by_name(\"btnK\")\n",
    "## 延遲時間\n",
    "time.sleep(2)\n",
    "## 觸發點擊事件\n",
    "btn.click()"
   ]
  },
  {
   "cell_type": "markdown",
   "metadata": {},
   "source": [
    "## 補充: 如何關掉瀏覽器跳出的通知視窗"
   ]
  },
  {
   "cell_type": "code",
   "execution_count": null,
   "metadata": {},
   "outputs": [],
   "source": [
    "## Import Package\n",
    "from selenium import webdriver\n",
    "from selenium.webdriver.chrome.options import Options\n",
    "## 啟用Options方法\n",
    "options = Options()\n",
    "## 關掉通知\n",
    "options.add_argument(\" - disable-notifications\")\n",
    "## WebDriver Path \n",
    "webdriver_path = \"C:/Users/user/Desktop/Learn-Python-/selenium/driver/chromedriver.exe\"\n",
    "## Enabled Chrome function\n",
    "chrome_browser = webdriver.Chrome(executable_path = webdriver_path)\n",
    "## go to the website\n",
    "chrome_browser.get(\"https://www.google.com/\")"
   ]
  },
  {
   "cell_type": "markdown",
   "metadata": {},
   "source": [
    "## 補充: 利用xpath來查找元素"
   ]
  },
  {
   "cell_type": "code",
   "execution_count": 13,
   "metadata": {},
   "outputs": [],
   "source": [
    "## Import Package\n",
    "from selenium import webdriver\n",
    "from selenium.webdriver.chrome.options import Options\n",
    "## 啟用Options方法\n",
    "options = Options()\n",
    "## 關掉通知\n",
    "options.add_argument(\" - disable-notifications\")\n",
    "## WebDriver Path \n",
    "webdriver_path = \"C:/Users/user/Desktop/Learn-Python-/selenium/driver/chromedriver.exe\"\n",
    "## Enabled Chrome function\n",
    "chrome_browser = webdriver.Chrome(executable_path = webdriver_path)\n",
    "## go to the website\n",
    "chrome_browser.get(\"https://www.google.com/\")\n",
    "## 獲得搜尋欄的元素\n",
    "search = chrome_browser.find_element_by_xpath('//*[@id=\"tsf\"]/div[2]/div[1]/div[1]/div/div[2]/input')\n",
    "## 傳入文字\n",
    "search.send_keys(\"coding起來\")\n",
    "## 延遲時間\n",
    "time.sleep(2)\n",
    "## 獲得按鈕元素並觸發點擊事件\n",
    "btn = chrome_browser.find_element_by_xpath('//*[@id=\"tsf\"]/div[2]/div[1]/div[3]/center/input[1]').submit()"
   ]
  }
 ],
 "metadata": {
  "kernelspec": {
   "display_name": "Python 3",
   "language": "python",
   "name": "python3"
  },
  "language_info": {
   "codemirror_mode": {
    "name": "ipython",
    "version": 3
   },
   "file_extension": ".py",
   "mimetype": "text/x-python",
   "name": "python",
   "nbconvert_exporter": "python",
   "pygments_lexer": "ipython3",
   "version": "3.7.6"
  }
 },
 "nbformat": 4,
 "nbformat_minor": 4
}
