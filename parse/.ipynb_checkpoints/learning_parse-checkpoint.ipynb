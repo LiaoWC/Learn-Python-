{
 "cells": [
  {
   "cell_type": "markdown",
   "metadata": {},
   "source": [
    "## import parse package"
   ]
  },
  {
   "cell_type": "code",
   "execution_count": 2,
   "metadata": {},
   "outputs": [],
   "source": [
    "from parse import *"
   ]
  },
  {
   "cell_type": "markdown",
   "metadata": {},
   "source": [
    "## Parse () function"
   ]
  },
  {
   "cell_type": "code",
   "execution_count": 91,
   "metadata": {},
   "outputs": [],
   "source": [
    "text = \"HI, My name is Shane, I am working in HsinChu\""
   ]
  },
  {
   "cell_type": "code",
   "execution_count": 107,
   "metadata": {},
   "outputs": [
    {
     "name": "stdout",
     "output_type": "stream",
     "text": [
      "<Result ('Shane', 'HsinChu') {}>\n",
      "<Result ('阿軒', '新竹') {}>\n"
     ]
    }
   ],
   "source": [
    "a = parse(\"HI, My name is {}, I am working in {}\", text)\n",
    "print(a)\n",
    "b = parse(\"嗨 我的名字是{}，我在{}工作\",\"嗨 我的名字是阿軒，我在新竹工作\")\n",
    "print(b)"
   ]
  },
  {
   "cell_type": "code",
   "execution_count": 113,
   "metadata": {},
   "outputs": [
    {
     "name": "stdout",
     "output_type": "stream",
     "text": [
      "<Result ('新竹',) {'student': {'name': '阿軒'}}>\n",
      "{'name': '阿軒'}\n",
      "阿軒\n"
     ]
    }
   ],
   "source": [
    "q = parse(\"嗨 我的名字是{student[name]}，我在{}工作\",\"嗨 我的名字是阿軒，我在新竹工作\")\n",
    "print(q)\n",
    "print(q['student'])\n",
    "print(q['student']['name'])"
   ]
  },
  {
   "cell_type": "code",
   "execution_count": 94,
   "metadata": {},
   "outputs": [
    {
     "name": "stdout",
     "output_type": "stream",
     "text": [
      "Shane HsinChu\n"
     ]
    }
   ],
   "source": [
    "name = a[0]\n",
    "city = a[1]\n",
    "print(name, city)"
   ]
  },
  {
   "cell_type": "code",
   "execution_count": 106,
   "metadata": {},
   "outputs": [
    {
     "name": "stdout",
     "output_type": "stream",
     "text": [
      "('Shane', 'HsinChu')\n"
     ]
    }
   ],
   "source": [
    "f = parse(\"HI, My name is {}, I am working in {}\", text)\n",
    "print(f.fixed)"
   ]
  },
  {
   "cell_type": "code",
   "execution_count": 104,
   "metadata": {},
   "outputs": [
    {
     "name": "stdout",
     "output_type": "stream",
     "text": [
      "<Result () {'name': 'Shane', 'work': 'HsinChu'}>\n",
      "Shane\n",
      "HsinChu\n",
      "{'name': 'Shane', 'work': 'HsinChu'}\n"
     ]
    }
   ],
   "source": [
    "c = parse(\"HI, My name is {name}, I am working in {work}\", text)\n",
    "print(c)\n",
    "print(c['name'])\n",
    "print(c['work'])\n",
    "print(c.named)"
   ]
  },
  {
   "cell_type": "code",
   "execution_count": 37,
   "metadata": {},
   "outputs": [
    {
     "name": "stdout",
     "output_type": "stream",
     "text": [
      "None\n"
     ]
    }
   ],
   "source": [
    "text = \"HI, My name is Shane, I am working in HsinChu\"\n",
    "warning = parse(\"Hi My name is {}\",text)\n",
    "print(warning)"
   ]
  },
  {
   "cell_type": "markdown",
   "metadata": {},
   "source": [
    "## Search()"
   ]
  },
  {
   "cell_type": "code",
   "execution_count": 46,
   "metadata": {},
   "outputs": [
    {
     "data": {
      "text/plain": [
       "<Result ('S',) {}>"
      ]
     },
     "execution_count": 46,
     "metadata": {},
     "output_type": "execute_result"
    }
   ],
   "source": [
    "text = \"HI, My name is Shane, I am working in HsinChu, my age is 26\"\n",
    "search(\"My name is {}\",text)"
   ]
  },
  {
   "cell_type": "code",
   "execution_count": 41,
   "metadata": {},
   "outputs": [
    {
     "data": {
      "text/plain": [
       "<Result ('Shane',) {}>"
      ]
     },
     "execution_count": 41,
     "metadata": {},
     "output_type": "execute_result"
    }
   ],
   "source": [
    "search(\"My name is {},\",text)"
   ]
  },
  {
   "cell_type": "code",
   "execution_count": 47,
   "metadata": {},
   "outputs": [
    {
     "data": {
      "text/plain": [
       "<Result ('2',) {}>"
      ]
     },
     "execution_count": 47,
     "metadata": {},
     "output_type": "execute_result"
    }
   ],
   "source": [
    "search(\"my age is {}\",text)"
   ]
  },
  {
   "cell_type": "code",
   "execution_count": 48,
   "metadata": {},
   "outputs": [
    {
     "data": {
      "text/plain": [
       "<Result (26,) {}>"
      ]
     },
     "execution_count": 48,
     "metadata": {},
     "output_type": "execute_result"
    }
   ],
   "source": [
    "search(\"my age is {:d}\",text)"
   ]
  },
  {
   "cell_type": "markdown",
   "metadata": {},
   "source": [
    "## findall()"
   ]
  },
  {
   "cell_type": "code",
   "execution_count": 80,
   "metadata": {},
   "outputs": [
    {
     "data": {
      "text/plain": [
       "'My name is Shane'"
      ]
     },
     "execution_count": 80,
     "metadata": {},
     "output_type": "execute_result"
    }
   ],
   "source": [
    "text = \"<b>My</b> name is <font color = 'blue'>Shane</font>\"\n",
    "\n",
    "''.join(t[0] for t in findall(\">{}<\",text))"
   ]
  },
  {
   "cell_type": "code",
   "execution_count": 136,
   "metadata": {},
   "outputs": [
    {
     "name": "stdout",
     "output_type": "stream",
     "text": [
      "Tom Ken Ham\n",
      "['Tom', 'Ken', 'Ham']\n",
      "['0', '1', '2']\n",
      "['22', '23', '28']\n"
     ]
    }
   ],
   "source": [
    "text = \"student id:0, name:Tom, age:22, student id:1, name:Ken, age:23, student id:2, name:Ham, age:28,\"\n",
    "\n",
    "print(' '.join(s[0] for s in findall(\"name:{},\",text)))\n",
    "\n",
    "print(' '.join(s[0] for s in findall(\"name:{},\",text)).split(' '))\n",
    "print(' '.join(s[0] for s in findall(\"id:{},\",text)).split(' '))\n",
    "print(' '.join(s[0] for s in findall(\"age:{},\",text)).split(' '))"
   ]
  },
  {
   "cell_type": "markdown",
   "metadata": {},
   "source": [
    "## compile()"
   ]
  },
  {
   "cell_type": "code",
   "execution_count": 85,
   "metadata": {},
   "outputs": [
    {
     "name": "stdout",
     "output_type": "stream",
     "text": [
      "<Result ('Shane',) {}>\n"
     ]
    }
   ],
   "source": [
    "from parse import compile\n",
    "text = \"HI, My name is Shane, I am working in HsinChu, my age is 26\"\n",
    "c = compile(\"My name is {},\")\n",
    "print(c.search(text))"
   ]
  }
 ],
 "metadata": {
  "kernelspec": {
   "display_name": "Python 3",
   "language": "python",
   "name": "python3"
  },
  "language_info": {
   "codemirror_mode": {
    "name": "ipython",
    "version": 3
   },
   "file_extension": ".py",
   "mimetype": "text/x-python",
   "name": "python",
   "nbconvert_exporter": "python",
   "pygments_lexer": "ipython3",
   "version": "3.7.6"
  }
 },
 "nbformat": 4,
 "nbformat_minor": 4
}
